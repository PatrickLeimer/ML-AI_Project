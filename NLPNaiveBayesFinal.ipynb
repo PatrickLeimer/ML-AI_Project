{
 "cells": [
  {
   "cell_type": "code",
   "execution_count": 2,
   "id": "fb7fb01d",
   "metadata": {},
   "outputs": [],
   "source": [
    "import os\n",
    "import pandas as pd\n",
    "from sklearn.model_selection import train_test_split\n",
    "from sklearn.pipeline import Pipeline\n",
    "from sklearn.feature_extraction.text import TfidfVectorizer\n",
    "from sklearn.naive_bayes import MultinomialNB, ComplementNB\n",
    "from sklearn.svm import LinearSVC\n",
    "from sklearn.metrics import accuracy_score, classification_report\n",
    "\n"
   ]
  },
  {
   "cell_type": "code",
   "execution_count": 3,
   "id": "b4891376",
   "metadata": {},
   "outputs": [
    {
     "data": {
      "text/html": [
       "<div>\n",
       "<style scoped>\n",
       "    .dataframe tbody tr th:only-of-type {\n",
       "        vertical-align: middle;\n",
       "    }\n",
       "\n",
       "    .dataframe tbody tr th {\n",
       "        vertical-align: top;\n",
       "    }\n",
       "\n",
       "    .dataframe thead th {\n",
       "        text-align: right;\n",
       "    }\n",
       "</style>\n",
       "<table border=\"1\" class=\"dataframe\">\n",
       "  <thead>\n",
       "    <tr style=\"text-align: right;\">\n",
       "      <th></th>\n",
       "      <th>Description</th>\n",
       "      <th>Payment</th>\n",
       "      <th>Category</th>\n",
       "    </tr>\n",
       "  </thead>\n",
       "  <tbody>\n",
       "    <tr>\n",
       "      <th>0</th>\n",
       "      <td>Maya Mobile</td>\n",
       "      <td>18.79</td>\n",
       "      <td>Phone/Cable</td>\n",
       "    </tr>\n",
       "    <tr>\n",
       "      <th>1</th>\n",
       "      <td>LA MAGDALENA DE PROUST</td>\n",
       "      <td>5.94</td>\n",
       "      <td>Dining</td>\n",
       "    </tr>\n",
       "    <tr>\n",
       "      <th>2</th>\n",
       "      <td>BP</td>\n",
       "      <td>75.43</td>\n",
       "      <td>Gas Station</td>\n",
       "    </tr>\n",
       "    <tr>\n",
       "      <th>3</th>\n",
       "      <td>UBR* PENDING.UBER.COM</td>\n",
       "      <td>7.47</td>\n",
       "      <td>Other Travel</td>\n",
       "    </tr>\n",
       "    <tr>\n",
       "      <th>4</th>\n",
       "      <td>LIDL BRAVO MURILLO</td>\n",
       "      <td>2.83</td>\n",
       "      <td>Merchandise</td>\n",
       "    </tr>\n",
       "  </tbody>\n",
       "</table>\n",
       "</div>"
      ],
      "text/plain": [
       "              Description  Payment      Category\n",
       "0             Maya Mobile    18.79   Phone/Cable\n",
       "1  LA MAGDALENA DE PROUST     5.94        Dining\n",
       "2                      BP    75.43   Gas Station\n",
       "3   UBR* PENDING.UBER.COM     7.47  Other Travel\n",
       "4      LIDL BRAVO MURILLO     2.83   Merchandise"
      ]
     },
     "execution_count": 3,
     "metadata": {},
     "output_type": "execute_result"
    }
   ],
   "source": [
    "# Read the CSV with all the transactions\n",
    "base_dir = os.path.dirname(os.path.abspath('__file__'))\n",
    "csv_path = os.path.join(base_dir, \"./processed/combined_transactions.csv\")\n",
    "\n",
    "df = pd.read_csv(csv_path).sample(frac=1, random_state=42).reset_index(drop=True)\n",
    "\n",
    "# Feature engineering\n",
    "# Here are my columns: Transaction Date,Posted Date,Card No.,Description,Category,Debit,Credit,isFraud\n",
    "# For my features, I will be using description and payment to predict the category of a transaction\n",
    "df.drop(columns=['Transaction Date', 'Posted Date', 'Card No.', 'isFraud'], inplace=True)\n",
    "df['Payment'] = df['Debit'] + df['Credit']\n",
    "df.drop(columns=['Debit', 'Credit'], inplace=True)\n",
    "payment_column = df.pop('Payment')\n",
    "df.insert(1, 'Payment', payment_column)\n",
    "\n",
    "# print(df['Category'].unique())\n",
    "df.head()"
   ]
  },
  {
   "cell_type": "code",
   "execution_count": 4,
   "id": "e5015a4c",
   "metadata": {},
   "outputs": [
    {
     "name": "stdout",
     "output_type": "stream",
     "text": [
      "Accuracy Scores:\n",
      "MultinomialNB: 61.98%\n",
      "ComplementNB: 75.52%\n",
      "LinearSVC: 82.81%\n"
     ]
    }
   ],
   "source": [
    "\n",
    "X = df['Description']\n",
    "y = df['Category']\n",
    "# print(len(X))\n",
    "\n",
    "# If I do a 30-70 split the accuracy improves a bit, makes it more overfit or underfit?\n",
    "X_train, X_test, y_train, y_test = train_test_split(X, y, test_size=0.3, random_state=22)\n",
    "\n",
    "# Pipelines que vectorizan las descripciones y luego te utilizan modelos de naive bayes para predecir\n",
    "pipeMNB = Pipeline([('tfidf', TfidfVectorizer()), ('clf', MultinomialNB())])\n",
    "pipeCNB = Pipeline([('tfidf', TfidfVectorizer()), ('clf', ComplementNB())])\n",
    "pipeSVC = Pipeline([('tfidf', TfidfVectorizer()), ('clf', LinearSVC())])\n",
    "\n",
    "# Entrenando los modelos\n",
    "pipeMNB.fit(X_train, y_train)\n",
    "pipeCNB.fit(X_train, y_train)\n",
    "pipeSVC.fit(X_train, y_train)\n",
    "\n",
    "# Probando las predicciones  \n",
    "predictMNB = pipeMNB.predict(X_test)\n",
    "predictCNB = pipeCNB.predict(X_test)\n",
    "predictSVC = pipeSVC.predict(X_test)\n",
    "\n",
    "# Saca el accuracy de cada modelo de naive bayes\n",
    "print(\"Accuracy Scores:\")\n",
    "print(f\"MultinomialNB: {100 * accuracy_score(y_test, predictMNB):.2f}%\")\n",
    "print(f\"ComplementNB: {100 * accuracy_score(y_test, predictCNB):.2f}%\")\n",
    "print(f\"LinearSVC: {100 * accuracy_score(y_test, predictSVC):.2f}%\")\n"
   ]
  }
 ],
 "metadata": {
  "kernelspec": {
   "display_name": "Python 3",
   "language": "python",
   "name": "python3"
  },
  "language_info": {
   "codemirror_mode": {
    "name": "ipython",
    "version": 3
   },
   "file_extension": ".py",
   "mimetype": "text/x-python",
   "name": "python",
   "nbconvert_exporter": "python",
   "pygments_lexer": "ipython3",
   "version": "3.12.1"
  }
 },
 "nbformat": 4,
 "nbformat_minor": 5
}
