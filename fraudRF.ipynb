{
 "cells": [
  {
   "cell_type": "code",
   "execution_count": 1,
   "id": "imports-cell",
   "metadata": {},
   "outputs": [],
   "source": [
    "import pandas as pd\n",
    "import numpy as np\n",
    "import os\n",
    "from sklearn.model_selection import train_test_split, GridSearchCV\n",
    "from sklearn.ensemble import RandomForestClassifier, StackingClassifier\n",
    "from sklearn.ensemble import RandomForestClassifier\n",
    "from sklearn.linear_model import LogisticRegression\n",
    "\n",
    "from sklearn.metrics import classification_report, confusion_matrix, roc_curve, auc\n",
    "import matplotlib.pyplot as plt"
   ]
  },
  {
   "cell_type": "code",
   "execution_count": 2,
   "id": "load-data-cell",
   "metadata": {},
   "outputs": [
    {
     "data": {
      "text/html": [
       "<div>\n",
       "<style scoped>\n",
       "    .dataframe tbody tr th:only-of-type {\n",
       "        vertical-align: middle;\n",
       "    }\n",
       "\n",
       "    .dataframe tbody tr th {\n",
       "        vertical-align: top;\n",
       "    }\n",
       "\n",
       "    .dataframe thead th {\n",
       "        text-align: right;\n",
       "    }\n",
       "</style>\n",
       "<table border=\"1\" class=\"dataframe\">\n",
       "  <thead>\n",
       "    <tr style=\"text-align: right;\">\n",
       "      <th></th>\n",
       "      <th>temporal_difference</th>\n",
       "      <th>Payment</th>\n",
       "      <th>isFraud</th>\n",
       "    </tr>\n",
       "  </thead>\n",
       "  <tbody>\n",
       "    <tr>\n",
       "      <th>0</th>\n",
       "      <td>2.0</td>\n",
       "      <td>18.79</td>\n",
       "      <td>0</td>\n",
       "    </tr>\n",
       "    <tr>\n",
       "      <th>1</th>\n",
       "      <td>1.0</td>\n",
       "      <td>5.94</td>\n",
       "      <td>0</td>\n",
       "    </tr>\n",
       "    <tr>\n",
       "      <th>2</th>\n",
       "      <td>1.0</td>\n",
       "      <td>75.43</td>\n",
       "      <td>1</td>\n",
       "    </tr>\n",
       "    <tr>\n",
       "      <th>3</th>\n",
       "      <td>1.0</td>\n",
       "      <td>7.47</td>\n",
       "      <td>0</td>\n",
       "    </tr>\n",
       "    <tr>\n",
       "      <th>4</th>\n",
       "      <td>1.0</td>\n",
       "      <td>2.83</td>\n",
       "      <td>0</td>\n",
       "    </tr>\n",
       "  </tbody>\n",
       "</table>\n",
       "</div>"
      ],
      "text/plain": [
       "   temporal_difference  Payment  isFraud\n",
       "0                  2.0    18.79        0\n",
       "1                  1.0     5.94        0\n",
       "2                  1.0    75.43        1\n",
       "3                  1.0     7.47        0\n",
       "4                  1.0     2.83        0"
      ]
     },
     "execution_count": 2,
     "metadata": {},
     "output_type": "execute_result"
    }
   ],
   "source": [
    "# Load dataset \n",
    "base_dir = os.path.dirname(os.path.abspath('__file__'))\n",
    "csv_path = os.path.join(base_dir, \"./processed/combined_transactions.csv\")\n",
    "\n",
    "df = pd.read_csv(csv_path).sample(frac=1, random_state=42).reset_index(drop=True)\n",
    "\n",
    "df['Transaction Date'] = pd.to_datetime(df['Transaction Date'])\n",
    "df['Posted Date'] = pd.to_datetime(df['Posted Date'])\n",
    "\n",
    "time_difference = df['Posted Date'] - df['Transaction Date']\n",
    "\n",
    "df.insert(0, 'temporal_difference', time_difference.dt.days.astype(float))\n",
    "\n",
    "# The column 'temporal_difference' is already converted to float, so this line is not needed.\n",
    "df.drop(columns=['Transaction Date', 'Posted Date', 'Card No.'], inplace=True)\n",
    "\n",
    "df['Payment'] = df['Debit'] + df['Credit']\n",
    "df.drop(columns=['Debit', 'Credit'], inplace=True)\n",
    "\n",
    "# Move 'payment' to be the second column\n",
    "payment_column = df.pop('Payment')\n",
    "df.insert(1, 'Payment', payment_column)\n",
    "\n",
    "df.drop(columns=['Category', 'Description'], inplace=True)\n",
    "\n",
    "# print(df['Category'].unique())\n",
    "df.head()\n"
   ]
  },
  {
   "cell_type": "code",
   "execution_count": 3,
   "id": "prepare-features-cell",
   "metadata": {},
   "outputs": [
    {
     "name": "stdout",
     "output_type": "stream",
     "text": [
      "509\n"
     ]
    }
   ],
   "source": [
    "# Prepare features (X) and target (y)\n",
    "X = df.drop('isFraud', axis=1)\n",
    "y = df['isFraud']\n",
    "\n",
    "# Stratified train-test split to preserve class distribution\n",
    "X_train, X_test, y_train, y_test = train_test_split(\n",
    "    X, y, test_size=0.2, stratify=y, random_state=42\n",
    ")\n",
    "\n",
    "print( len(X_train))\n"
   ]
  },
  {
   "cell_type": "code",
   "execution_count": 4,
   "id": "preprocessor-pipeline-cell",
   "metadata": {},
   "outputs": [
    {
     "name": "stdout",
     "output_type": "stream",
     "text": [
      "Classification Report:\n",
      "              precision    recall  f1-score   support\n",
      "\n",
      "   Not Fraud       0.91      0.91      0.91        98\n",
      "       Fraud       0.70      0.70      0.70        30\n",
      "\n",
      "    accuracy                           0.86       128\n",
      "   macro avg       0.80      0.80      0.80       128\n",
      "weighted avg       0.86      0.86      0.86       128\n",
      "\n",
      "[[89  9]\n",
      " [ 9 21]]\n",
      "0.859375\n"
     ]
    }
   ],
   "source": [
    "\n",
    "from sklearn.metrics import accuracy_score\n",
    "\n",
    "# Create Random Forest pipeline with class_weight balanced\n",
    "clf = RandomForestClassifier(random_state=0, n_estimators=10, max_features=0.8)\n",
    "# TODO: Train it\n",
    "clf.fit(X_train, y_train)\n",
    "# TODO: Predict the test values\n",
    "clf_pred= clf.predict(X_test)\n",
    "\n",
    "print(\"Classification Report:\")\n",
    "print(classification_report(y_test, clf_pred, target_names=[\"Not Fraud\", \"Fraud\"]))\n",
    "\n",
    "# TODO: Obtain the confusion matrix and print it\n",
    "print(confusion_matrix(y_test, clf_pred))\n",
    "\n",
    "print(accuracy_score(y_test, clf_pred))"
   ]
  },
  {
   "cell_type": "code",
   "execution_count": 5,
   "id": "roc-curve-cell",
   "metadata": {},
   "outputs": [
    {
     "name": "stdout",
     "output_type": "stream",
     "text": [
      "ROC AUC: 0.9299\n"
     ]
    },
    {
     "data": {
      "image/png": "[encoded data removed]",
      "text/plain": [
       "<Figure size 640x480 with 1 Axes>"
      ]
     },
     "metadata": {},
     "output_type": "display_data"
    }
   ],
   "source": [
    "# Compute ROC curve and AUC\n",
    "y_proba = clf.predict_proba(X_test)[:, 1]\n",
    "fpr, tpr, _ = roc_curve(y_test, y_proba)\n",
    "roc_auc = auc(fpr, tpr)\n",
    "print(f\"ROC AUC: {roc_auc:.4f}\")\n",
    "\n",
    "# Plot ROC curve\n",
    "plt.figure()\n",
    "plt.plot(fpr, tpr, label=f\"ROC curve (AUC = {roc_auc:.2f})\")\n",
    "plt.plot([0, 1], [0, 1], 'k--', label=\"Random Guess\")\n",
    "plt.xlabel(\"False Positive Rate\")\n",
    "plt.ylabel(\"True Positive Rate\")\n",
    "plt.title(\"ROC Curve\")\n",
    "plt.legend(loc=\"lower right\")\n",
    "plt.show()"
   ]
  }
 ],
 "metadata": {
  "kernelspec": {
   "display_name": "Python 3",
   "language": "python",
   "name": "python3"
  },
  "language_info": {
   "codemirror_mode": {
    "name": "ipython",
    "version": 3
   },
   "file_extension": ".py",
   "mimetype": "text/x-python",
   "name": "python",
   "nbconvert_exporter": "python",
   "pygments_lexer": "ipython3",
   "version": "3.12.1"
  }
 },
 "nbformat": 4,
 "nbformat_minor": 5
}
